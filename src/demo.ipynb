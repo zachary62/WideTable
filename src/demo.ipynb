{
 "cells": [
  {
   "cell_type": "code",
   "execution_count": 28,
   "id": "bea331c7",
   "metadata": {},
   "outputs": [],
   "source": [
    "import duckdb\n",
    "from widetable.cjt import CJT\n",
    "from widetable.joingraph import JoinGraph\n",
    "from widetable.semiring import AvgSemiRing\n",
    "from widetable.aggregator import Annotation\n",
    "from widetable.dashboard import DashBoard\n",
    "from widetable.scope import *\n",
    "from widetable.executor import *\n",
    "import ipywidgets as widgets\n",
    "from ipywidgets import interact, interactive, fixed, interact_manual\n",
    "from matplotlib import pyplot as plt"
   ]
  },
  {
   "cell_type": "code",
   "execution_count": 6,
   "id": "386473b4",
   "metadata": {},
   "outputs": [],
   "source": [
    "duck_db_conn = duckdb.connect(database=':memory:')\n",
    "join_graph = JoinGraph(DuckdbExecutor(duck_db_conn, debug=False))\n",
    "dashboard = DashBoard(join_graph)\n",
    "dashboard.add_relation('ACCOUNT', relation_address='../data/salesforce/ACCOUNT.csv')\n",
    "dashboard.add_relation('CAMPAIGN', relation_address='../data/salesforce/CAMPAIGN.csv')\n",
    "dashboard.add_relation('OPPORTUNITY', relation_address='../data/salesforce/OPPORTUNITY.csv')\n",
    "dashboard.add_relation('USERS', relation_address='../data/salesforce/USER.csv')\n",
    "dashboard.add_relation('USER_ROLE', relation_address='../data/salesforce/USER_ROLE.csv')\n",
    "dashboard.add_join('USERS', 'ACCOUNT', ['Account Id'], ['Id']);\n",
    "dashboard.add_join('USERS', 'OPPORTUNITY', ['Id'], ['Owner Id']);\n",
    "dashboard.add_join('USERS', 'USER_ROLE', ['User Role Id'], ['Id']);\n",
    "dashboard.add_join('CAMPAIGN', 'OPPORTUNITY', ['Id'], ['Campaign Id']);"
   ]
  },
  {
   "cell_type": "code",
   "execution_count": null,
   "id": "e1813fba",
   "metadata": {},
   "outputs": [],
   "source": []
  },
  {
   "cell_type": "code",
   "execution_count": 9,
   "id": "46c1e13d",
   "metadata": {},
   "outputs": [
    {
     "name": "stdout",
     "output_type": "stream",
     "text": [
      "-- lift ACCOUNT \n",
      "-- lift CAMPAIGN \n",
      "-- lift OPPORTUNITY \n",
      "-- lift USERS \n",
      "-- lift USER_ROLE \n",
      "--Sending Message from CAMPAIGN to OPPORTUNITY m_type is Message.FULL\n",
      "--Sending Message from ACCOUNT to USERS m_type is Message.FULL\n",
      "--Sending Message from USER_ROLE to USERS m_type is Message.FULL\n",
      "--Sending Message from USERS to OPPORTUNITY m_type is Message.FULL\n"
     ]
    },
    {
     "data": {
      "text/html": [
       "<div>\n",
       "<style scoped>\n",
       "    .dataframe tbody tr th:only-of-type {\n",
       "        vertical-align: middle;\n",
       "    }\n",
       "\n",
       "    .dataframe tbody tr th {\n",
       "        vertical-align: top;\n",
       "    }\n",
       "\n",
       "    .dataframe thead th {\n",
       "        text-align: right;\n",
       "    }\n",
       "</style>\n",
       "<table border=\"1\" class=\"dataframe\">\n",
       "  <thead>\n",
       "    <tr style=\"text-align: right;\">\n",
       "      <th></th>\n",
       "      <th>s</th>\n",
       "    </tr>\n",
       "  </thead>\n",
       "  <tbody>\n",
       "    <tr>\n",
       "      <th>0</th>\n",
       "      <td>3.542538e+09</td>\n",
       "    </tr>\n",
       "  </tbody>\n",
       "</table>\n",
       "</div>"
      ],
      "text/plain": [
       "              s\n",
       "0  3.542538e+09"
      ]
     },
     "execution_count": 9,
     "metadata": {},
     "output_type": "execute_result"
    }
   ],
   "source": [
    "# define the measurement and \n",
    "measurement1 = dashboard.register_measurement(\"sum\",'OPPORTUNITY','\"Amount\"', scope=FullJoin())\n",
    "dashboard.absorption(measurement1, mode=5)"
   ]
  },
  {
   "cell_type": "code",
   "execution_count": 31,
   "id": "7ac7959d",
   "metadata": {},
   "outputs": [
    {
     "data": {
      "application/vnd.jupyter.widget-view+json": {
       "model_id": "9a1bb7b8069340528983870852a78d8f",
       "version_major": 2,
       "version_minor": 0
      },
      "text/plain": [
       "interactive(children=(Dropdown(description='title', options=('Regional Sales Manager', 'Inside Sales', 'Sale D…"
      ]
     },
     "metadata": {},
     "output_type": "display_data"
    }
   ],
   "source": [
    "def total(title):\n",
    "    cjt = dashboard.get_cjt(measurement1).copy()\n",
    "    cjt.add_annotations('USERS', ['Title', Annotation.NOT_DISTINCT, title])\n",
    "    user_table=\"USERS\"\n",
    "    cjt.upward_message_passing(cjt.get_relation_from_user_table(user_table))\n",
    "    return cjt.absorption(mode=5, user_table=user_table)\n",
    "\n",
    "interact(total, title=['Regional Sales Manager', 'Inside Sales', 'Sale Director']);"
   ]
  },
  {
   "cell_type": "code",
   "execution_count": 45,
   "id": "ea01c6ef",
   "metadata": {},
   "outputs": [
    {
     "data": {
      "text/plain": [
       "<AxesSubplot:ylabel='s'>"
      ]
     },
     "execution_count": 45,
     "metadata": {},
     "output_type": "execute_result"
    },
    {
     "data": {
      "image/png": "[encoded data removed]",
      "text/plain": [
       "<Figure size 432x288 with 1 Axes>"
      ]
     },
     "metadata": {},
     "output_type": "display_data"
    }
   ],
   "source": [
    "dashboard.add_groupbys(measurement1,'CAMPAIGN', ['Ctype'])\n",
    "dashboard.absorption(measurement1,['Ctype'], mode=5, user_table ='CAMPAIGN').groupby('Ctype').mean().plot.pie(y=\"s\")"
   ]
  },
  {
   "cell_type": "code",
   "execution_count": 93,
   "id": "943f151c",
   "metadata": {},
   "outputs": [
    {
     "data": {
      "application/vnd.jupyter.widget-view+json": {
       "model_id": "a1f31ffb8e5444dbb4c1d8e9e462bec0",
       "version_major": 2,
       "version_minor": 0
      },
      "text/plain": [
       "interactive(children=(Dropdown(description='name', options=('Colorado', 'Illinois', 'Indiana', 'New York', 'Di…"
      ]
     },
     "metadata": {},
     "output_type": "display_data"
    }
   ],
   "source": [
    "def pie(name):\n",
    "    cjt = dashboard.get_cjt(measurement1).copy()\n",
    "    cjt.add_annotations('ACCOUNT', ['\"Billing State\"', Annotation.NOT_DISTINCT, name])\n",
    "    user_table=\"ACCOUNT\"\n",
    "    cjt.upward_message_passing(cjt.get_relation_from_user_table(user_table))\n",
    "    cjt.absorption(group_by=['Ctype'], mode=5, user_table=user_table).groupby('Ctype').mean().plot.pie(y=\"s\")\n",
    "    plt.show()\n",
    "\n",
    "interact(pie, name=['Colorado', 'Illinois', 'Indiana', 'New York',\n",
    "       'District of Columbia', 'Ohio', 'California', 'Kentucky',\n",
    "       'Missouri', 'Florida', 'Pennsylvania', 'Connecticut', 'Minnesota',\n",
    "       'Idaho', 'Texas', 'Tennessee', 'New Mexico', 'Oregon', 'Utah',\n",
    "       'Mississippi', 'Louisiana', 'Nevada', 'West Virginia', 'Virginia',\n",
    "       'Georgia', 'North Carolina', 'Arkansas', 'Michigan', 'Maryland',\n",
    "       'South Carolina', 'Massachusetts', 'Iowa', 'Washington',\n",
    "       'New Jersey', 'Oklahoma', 'Kansas', 'Arizona', 'Wisconsin',\n",
    "       'Nebraska', 'Delaware', 'Montana', 'South Dakota', 'Alabama',\n",
    "       'Maine', 'Hawaii', 'Rhode Island', 'Vermont', 'Alaska', 'Wyoming',\n",
    "       'North Dakota', 'New Hampshire']);"
   ]
  },
  {
   "cell_type": "code",
   "execution_count": 86,
   "id": "74dcc5c7",
   "metadata": {},
   "outputs": [],
   "source": []
  },
  {
   "cell_type": "code",
   "execution_count": null,
   "id": "de2f67f8",
   "metadata": {},
   "outputs": [],
   "source": []
  }
 ],
 "metadata": {
  "environment": {
   "name": "common-cpu.m79",
   "type": "gcloud",
   "uri": "gcr.io/deeplearning-platform-release/base-cpu:m79"
  },
  "kernelspec": {
   "display_name": "Python 3",
   "language": "python",
   "name": "python3"
  },
  "language_info": {
   "codemirror_mode": {
    "name": "ipython",
    "version": 3
   },
   "file_extension": ".py",
   "mimetype": "text/x-python",
   "name": "python",
   "nbconvert_exporter": "python",
   "pygments_lexer": "ipython3",
   "version": "3.7.10"
  }
 },
 "nbformat": 4,
 "nbformat_minor": 5
}
