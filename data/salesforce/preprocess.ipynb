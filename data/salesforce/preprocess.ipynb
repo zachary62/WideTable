{
 "cells": [
  {
   "cell_type": "code",
   "execution_count": 1,
   "id": "dc4d2069",
   "metadata": {},
   "outputs": [],
   "source": [
    "import pandas as pd\n",
    "import numpy as np"
   ]
  },
  {
   "cell_type": "code",
   "execution_count": 2,
   "id": "2eb07a57",
   "metadata": {},
   "outputs": [],
   "source": [
    "OPPORTUNITY = pd.read_csv(\"OPPORTUNITY.csv\")\n",
    "CAMPAIGN = pd.read_csv(\"CAMPAIGN.csv\")\n",
    "OPPORTUNITY[\"Campaign Id\"] = np.array(CAMPAIGN[\"Id\"].sample(len(OPPORTUNITY), replace=True))\n",
    "OPPORTUNITY.to_csv(\"OPPORTUNITY.csv\", index=False)"
   ]
  },
  {
   "cell_type": "code",
   "execution_count": 26,
   "id": "470cd62b",
   "metadata": {},
   "outputs": [],
   "source": [
    "USER = pd.read_csv(\"USER.csv\")\n",
    "ACCOUNT = pd.read_csv(\"ACCOUNT.csv\")\n",
    "USER[\"Account Id\"] = np.array(ACCOUNT[\"Id\"].sample(len(USER), replace=True))\n",
    "USER.to_csv(\"USER.csv\", index=False)"
   ]
  },
  {
   "cell_type": "code",
   "execution_count": 24,
   "id": "b7cc60db",
   "metadata": {},
   "outputs": [],
   "source": []
  },
  {
   "cell_type": "code",
   "execution_count": 25,
   "id": "e81760dd",
   "metadata": {},
   "outputs": [],
   "source": []
  },
  {
   "cell_type": "code",
   "execution_count": 23,
   "id": "2ac2a0d5",
   "metadata": {},
   "outputs": [
    {
     "data": {
      "text/plain": [
       "array([ 6326, 11232, 10595, ...,  3504,  7328,    87])"
      ]
     },
     "execution_count": 23,
     "metadata": {},
     "output_type": "execute_result"
    }
   ],
   "source": [
    "np.array(CAMPAIGN[\"Id\"].sample(len(OPPORTUNITY), replace=True))"
   ]
  },
  {
   "cell_type": "code",
   "execution_count": 2,
   "id": "87f3b744",
   "metadata": {},
   "outputs": [],
   "source": [
    "\n"
   ]
  },
  {
   "cell_type": "code",
   "execution_count": 3,
   "id": "09b40502",
   "metadata": {},
   "outputs": [],
   "source": [
    "OPPORTUNITY = pd.read_csv(\"OPPORTUNITY.csv\")\n",
    "pd.concat([OPPORTUNITY]*30).to_csv(\"OPPORTUNITYL.csv\", index=False)\n"
   ]
  },
  {
   "cell_type": "code",
   "execution_count": null,
   "id": "4f8ddec7",
   "metadata": {},
   "outputs": [],
   "source": []
  },
  {
   "cell_type": "code",
   "execution_count": 2,
   "id": "2bda2a5b",
   "metadata": {},
   "outputs": [],
   "source": [
    "CAMPAIGN = pd.read_csv(\"CAMPAIGN.csv\")\n",
    "pd.concat([CAMPAIGN]*30).to_csv(\"CAMPAIGNL.csv\", index=False)"
   ]
  },
  {
   "cell_type": "code",
   "execution_count": null,
   "id": "41cdc87a",
   "metadata": {},
   "outputs": [],
   "source": []
  }
 ],
 "metadata": {
  "environment": {
   "name": "common-cpu.m79",
   "type": "gcloud",
   "uri": "gcr.io/deeplearning-platform-release/base-cpu:m79"
  },
  "kernelspec": {
   "display_name": "Python 3",
   "language": "python",
   "name": "python3"
  },
  "language_info": {
   "codemirror_mode": {
    "name": "ipython",
    "version": 3
   },
   "file_extension": ".py",
   "mimetype": "text/x-python",
   "name": "python",
   "nbconvert_exporter": "python",
   "pygments_lexer": "ipython3",
   "version": "3.7.10"
  }
 },
 "nbformat": 4,
 "nbformat_minor": 5
}
