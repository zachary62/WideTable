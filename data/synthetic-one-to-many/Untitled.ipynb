{
 "cells": [
  {
   "cell_type": "code",
   "execution_count": 1,
   "id": "76760da0",
   "metadata": {},
   "outputs": [],
   "source": [
    "import pandas as pd\n",
    "import numpy as np"
   ]
  },
  {
   "cell_type": "code",
   "execution_count": 2,
   "id": "137e3ad9",
   "metadata": {},
   "outputs": [],
   "source": [
    "df = pd.DataFrame()\n",
    "df[\"A\"] = np.arange(1, 5001)\n",
    "df[\"E\"] = np.random.randint(1, 3000, 5000)\n",
    "df.to_csv(\"S.csv\", index=False)"
   ]
  },
  {
   "cell_type": "code",
   "execution_count": 3,
   "id": "2a38348c",
   "metadata": {},
   "outputs": [],
   "source": [
    "df = pd.DataFrame()\n",
    "df[\"B\"] = np.arange(1, 5001)\n",
    "df[\"F\"] = np.random.randint(1, 10000, 5000)\n",
    "df.to_csv(\"T.csv\", index=False)"
   ]
  },
  {
   "cell_type": "code",
   "execution_count": 4,
   "id": "40fd33a3",
   "metadata": {},
   "outputs": [],
   "source": [
    "df = pd.DataFrame()\n",
    "height = 10000\n",
    "df[\"A\"] = np.random.randint(1, 5000, height)\n",
    "df[\"B\"] = np.random.randint(1, 5000, height)\n",
    "df[\"D\"] = np.random.randint(1, 2000, height)\n",
    "df[\"C\"] = df[\"A\"] * df[\"A\"] - df[\"B\"] * df[\"D\"]\n",
    "df.to_csv(\"R.csv\", index=False)"
   ]
  },
  {
   "cell_type": "code",
   "execution_count": 15,
   "id": "17a0cb84",
   "metadata": {},
   "outputs": [
    {
     "data": {
      "text/html": [
       "<div>\n",
       "<style scoped>\n",
       "    .dataframe tbody tr th:only-of-type {\n",
       "        vertical-align: middle;\n",
       "    }\n",
       "\n",
       "    .dataframe tbody tr th {\n",
       "        vertical-align: top;\n",
       "    }\n",
       "\n",
       "    .dataframe thead th {\n",
       "        text-align: right;\n",
       "    }\n",
       "</style>\n",
       "<table border=\"1\" class=\"dataframe\">\n",
       "  <thead>\n",
       "    <tr style=\"text-align: right;\">\n",
       "      <th></th>\n",
       "      <th>A</th>\n",
       "      <th>B</th>\n",
       "      <th>D</th>\n",
       "      <th>C</th>\n",
       "    </tr>\n",
       "  </thead>\n",
       "  <tbody>\n",
       "    <tr>\n",
       "      <th>0</th>\n",
       "      <td>2935</td>\n",
       "      <td>3013</td>\n",
       "      <td>694</td>\n",
       "      <td>6523203</td>\n",
       "    </tr>\n",
       "    <tr>\n",
       "      <th>1942</th>\n",
       "      <td>1870</td>\n",
       "      <td>3013</td>\n",
       "      <td>789</td>\n",
       "      <td>1119643</td>\n",
       "    </tr>\n",
       "    <tr>\n",
       "      <th>5700</th>\n",
       "      <td>344</td>\n",
       "      <td>3013</td>\n",
       "      <td>950</td>\n",
       "      <td>-2744014</td>\n",
       "    </tr>\n",
       "    <tr>\n",
       "      <th>6400</th>\n",
       "      <td>978</td>\n",
       "      <td>3013</td>\n",
       "      <td>206</td>\n",
       "      <td>335806</td>\n",
       "    </tr>\n",
       "    <tr>\n",
       "      <th>7835</th>\n",
       "      <td>3888</td>\n",
       "      <td>3013</td>\n",
       "      <td>1669</td>\n",
       "      <td>10087847</td>\n",
       "    </tr>\n",
       "  </tbody>\n",
       "</table>\n",
       "</div>"
      ],
      "text/plain": [
       "         A     B     D         C\n",
       "0     2935  3013   694   6523203\n",
       "1942  1870  3013   789   1119643\n",
       "5700   344  3013   950  -2744014\n",
       "6400   978  3013   206    335806\n",
       "7835  3888  3013  1669  10087847"
      ]
     },
     "execution_count": 15,
     "metadata": {},
     "output_type": "execute_result"
    }
   ],
   "source": [
    "fact[fact[\"B\"] == 3013].head()"
   ]
  },
  {
   "cell_type": "code",
   "execution_count": 5,
   "id": "dec1fdfd",
   "metadata": {},
   "outputs": [],
   "source": [
    "fact = pd.read_csv(\"R.csv\")\n",
    "d1 = pd.read_csv(\"T.csv\")\n",
    "d2 = pd.read_csv(\"S.csv\")\n",
    "join = pd.merge(left=fact, right=d1, how='inner', left_on=[\"B\"], right_on=[\"B\"])\n",
    "join = pd.merge(left=join, right=d2, how='inner', left_on=[\"A\"], right_on=[\"A\"])\n",
    "join.to_csv(\"RST.csv\", index=False)"
   ]
  },
  {
   "cell_type": "code",
   "execution_count": 19,
   "id": "a9f055d1",
   "metadata": {},
   "outputs": [],
   "source": [
    "from sklearn.tree import DecisionTreeRegressor\n",
    "x=[\"A\",\"B\"]\n",
    "y=\"C\"\n",
    "regressor = DecisionTreeRegressor(max_depth = 1)\n",
    "regressor = regressor.fit(fact[x], fact[y])"
   ]
  },
  {
   "cell_type": "code",
   "execution_count": 29,
   "id": "3a0460c6",
   "metadata": {},
   "outputs": [
    {
     "data": {
      "text/plain": [
       "0.7078494096956104"
      ]
     },
     "execution_count": 29,
     "metadata": {},
     "output_type": "execute_result"
    }
   ],
   "source": [
    "from sklearn.metrics import r2_score\n",
    "r2_score(fact[y], regressor.predict(fact[x]))"
   ]
  },
  {
   "cell_type": "code",
   "execution_count": 16,
   "id": "f138c4f3",
   "metadata": {},
   "outputs": [
    {
     "data": {
      "text/plain": [
       "[Text(167.4, 163.07999999999998, 'X[0] <= 6297.0\\nmse = 870709594178407.4\\nsamples = 1000\\nvalue = 31744726.305'),\n",
       " Text(83.7, 54.360000000000014, 'mse = 132569016532802.22\\nsamples = 647\\nvalue = 12440178.563'),\n",
       " Text(251.10000000000002, 54.360000000000014, 'mse = 288649269960233.0\\nsamples = 353\\nvalue = 67127282.649')]"
      ]
     },
     "execution_count": 16,
     "metadata": {},
     "output_type": "execute_result"
    },
    {
     "data": {
      "image/png": "[encoded data removed]",
      "text/plain": [
       "<Figure size 432x288 with 1 Axes>"
      ]
     },
     "metadata": {
      "needs_background": "light"
     },
     "output_type": "display_data"
    }
   ],
   "source": [
    "from sklearn import tree\n",
    "tree.plot_tree(regressor)"
   ]
  },
  {
   "cell_type": "code",
   "execution_count": null,
   "id": "87c69563",
   "metadata": {},
   "outputs": [],
   "source": []
  },
  {
   "cell_type": "code",
   "execution_count": null,
   "id": "66a0a557",
   "metadata": {},
   "outputs": [],
   "source": []
  }
 ],
 "metadata": {
  "kernelspec": {
   "display_name": "Python 3",
   "language": "python",
   "name": "python3"
  },
  "language_info": {
   "codemirror_mode": {
    "name": "ipython",
    "version": 3
   },
   "file_extension": ".py",
   "mimetype": "text/x-python",
   "name": "python",
   "nbconvert_exporter": "python",
   "pygments_lexer": "ipython3",
   "version": "3.8.5"
  }
 },
 "nbformat": 4,
 "nbformat_minor": 5
}
